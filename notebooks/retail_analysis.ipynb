{
 "cells": [
  {
   "cell_type": "code",
   "execution_count": 1,
   "metadata": {},
   "outputs": [
    {
     "name": "stdout",
     "output_type": "stream",
     "text": [
      "Gonna Start the cw, bless me!!\n"
     ]
    }
   ],
   "source": [
    "print(\"Gonna Start the cw, bless me!!\")"
   ]
  },
  {
   "cell_type": "markdown",
   "metadata": {},
   "source": [
    "# DataSet into a Pandas DataFrame"
   ]
  },
  {
   "cell_type": "code",
   "execution_count": 2,
   "metadata": {},
   "outputs": [
    {
     "name": "stdout",
     "output_type": "stream",
     "text": [
      "Just getting the file and checking how it works and what the file looks like\n",
      "\n",
      "File saved as CSV at: ../UniqueGiftsLTDProject/online_retail_II_full.csv\n",
      "\n",
      "Dataframe Info:\n",
      "<class 'pandas.core.frame.DataFrame'>\n",
      "RangeIndex: 525461 entries, 0 to 525460\n",
      "Data columns (total 8 columns):\n",
      " #   Column       Non-Null Count   Dtype         \n",
      "---  ------       --------------   -----         \n",
      " 0   Invoice      525461 non-null  object        \n",
      " 1   StockCode    525461 non-null  object        \n",
      " 2   Description  522533 non-null  object        \n",
      " 3   Quantity     525461 non-null  int64         \n",
      " 4   InvoiceDate  525461 non-null  datetime64[ns]\n",
      " 5   Price        525461 non-null  float64       \n",
      " 6   Customer ID  417534 non-null  float64       \n",
      " 7   Country      525461 non-null  object        \n",
      "dtypes: datetime64[ns](1), float64(2), int64(1), object(4)\n",
      "memory usage: 32.1+ MB\n"
     ]
    }
   ],
   "source": [
    "import pandas as pd\n",
    "import os\n",
    "\n",
    "print(\"Just getting the file and checking how it works and what the file looks like\\n\")\n",
    "\n",
    "# Paths\n",
    "file_path = '../UniqueGiftsLTDProject/online_retail_II.xlsx'\n",
    "csv_path = '../UniqueGiftsLTDProject/online_retail_II_full.csv'\n",
    "\n",
    "# ✅ Read the full Excel file\n",
    "df = pd.read_excel(file_path)  # remove nrows to load all rows\n",
    "\n",
    "# ✅ Save as CSV\n",
    "df.to_csv(csv_path, index=False)\n",
    "print(f\"File saved as CSV at: {csv_path}\")\n",
    "\n",
    "# ✅ Read CSV back\n",
    "df_csv = pd.read_csv(csv_path)\n",
    "\n",
    "# Optional: force correct types like your friend did\n",
    "df_csv['Invoice'] = df_csv['Invoice'].astype(str)\n",
    "df_csv['InvoiceDate'] = pd.to_datetime(df_csv['InvoiceDate'], errors='coerce')\n",
    "\n",
    "# Display first 5 rows and info like your friend\n",
    "df_csv.head()\n",
    "print(\"\\nDataframe Info:\")\n",
    "df_csv.info()\n",
    "\n"
   ]
  },
  {
   "cell_type": "code",
   "execution_count": 3,
   "metadata": {},
   "outputs": [
    {
     "name": "stdout",
     "output_type": "stream",
     "text": [
      "Column Types And Missing Count \n",
      "\n",
      "<class 'pandas.core.frame.DataFrame'>\n",
      "RangeIndex: 525461 entries, 0 to 525460\n",
      "Data columns (total 8 columns):\n",
      " #   Column       Non-Null Count   Dtype         \n",
      "---  ------       --------------   -----         \n",
      " 0   Invoice      525461 non-null  object        \n",
      " 1   StockCode    525461 non-null  object        \n",
      " 2   Description  522533 non-null  object        \n",
      " 3   Quantity     525461 non-null  int64         \n",
      " 4   InvoiceDate  525461 non-null  datetime64[ns]\n",
      " 5   Price        525461 non-null  float64       \n",
      " 6   Customer ID  417534 non-null  float64       \n",
      " 7   Country      525461 non-null  object        \n",
      "dtypes: datetime64[ns](1), float64(2), int64(1), object(4)\n",
      "memory usage: 32.1+ MB\n"
     ]
    }
   ],
   "source": [
    "print(\"Column Types And Missing Count \\n\")\n",
    "df.info()\n",
    "\n"
   ]
  },
  {
   "cell_type": "code",
   "execution_count": 4,
   "metadata": {},
   "outputs": [
    {
     "name": "stdout",
     "output_type": "stream",
     "text": [
      "Getting Status as a table \n",
      "\n"
     ]
    },
    {
     "data": {
      "text/html": [
       "<div>\n",
       "<style scoped>\n",
       "    .dataframe tbody tr th:only-of-type {\n",
       "        vertical-align: middle;\n",
       "    }\n",
       "\n",
       "    .dataframe tbody tr th {\n",
       "        vertical-align: top;\n",
       "    }\n",
       "\n",
       "    .dataframe thead th {\n",
       "        text-align: right;\n",
       "    }\n",
       "</style>\n",
       "<table border=\"1\" class=\"dataframe\">\n",
       "  <thead>\n",
       "    <tr style=\"text-align: right;\">\n",
       "      <th></th>\n",
       "      <th>Quantity</th>\n",
       "      <th>InvoiceDate</th>\n",
       "      <th>Price</th>\n",
       "      <th>Customer ID</th>\n",
       "    </tr>\n",
       "  </thead>\n",
       "  <tbody>\n",
       "    <tr>\n",
       "      <th>count</th>\n",
       "      <td>525461.000000</td>\n",
       "      <td>525461</td>\n",
       "      <td>525461.000000</td>\n",
       "      <td>417534.000000</td>\n",
       "    </tr>\n",
       "    <tr>\n",
       "      <th>mean</th>\n",
       "      <td>10.337667</td>\n",
       "      <td>2010-06-28 11:37:36.845017856</td>\n",
       "      <td>4.688834</td>\n",
       "      <td>15360.645478</td>\n",
       "    </tr>\n",
       "    <tr>\n",
       "      <th>min</th>\n",
       "      <td>-9600.000000</td>\n",
       "      <td>2009-12-01 07:45:00</td>\n",
       "      <td>-53594.360000</td>\n",
       "      <td>12346.000000</td>\n",
       "    </tr>\n",
       "    <tr>\n",
       "      <th>25%</th>\n",
       "      <td>1.000000</td>\n",
       "      <td>2010-03-21 12:20:00</td>\n",
       "      <td>1.250000</td>\n",
       "      <td>13983.000000</td>\n",
       "    </tr>\n",
       "    <tr>\n",
       "      <th>50%</th>\n",
       "      <td>3.000000</td>\n",
       "      <td>2010-07-06 09:51:00</td>\n",
       "      <td>2.100000</td>\n",
       "      <td>15311.000000</td>\n",
       "    </tr>\n",
       "    <tr>\n",
       "      <th>75%</th>\n",
       "      <td>10.000000</td>\n",
       "      <td>2010-10-15 12:45:00</td>\n",
       "      <td>4.210000</td>\n",
       "      <td>16799.000000</td>\n",
       "    </tr>\n",
       "    <tr>\n",
       "      <th>max</th>\n",
       "      <td>19152.000000</td>\n",
       "      <td>2010-12-09 20:01:00</td>\n",
       "      <td>25111.090000</td>\n",
       "      <td>18287.000000</td>\n",
       "    </tr>\n",
       "    <tr>\n",
       "      <th>std</th>\n",
       "      <td>107.424110</td>\n",
       "      <td>NaN</td>\n",
       "      <td>146.126914</td>\n",
       "      <td>1680.811316</td>\n",
       "    </tr>\n",
       "  </tbody>\n",
       "</table>\n",
       "</div>"
      ],
      "text/plain": [
       "            Quantity                    InvoiceDate          Price  \\\n",
       "count  525461.000000                         525461  525461.000000   \n",
       "mean       10.337667  2010-06-28 11:37:36.845017856       4.688834   \n",
       "min     -9600.000000            2009-12-01 07:45:00  -53594.360000   \n",
       "25%         1.000000            2010-03-21 12:20:00       1.250000   \n",
       "50%         3.000000            2010-07-06 09:51:00       2.100000   \n",
       "75%        10.000000            2010-10-15 12:45:00       4.210000   \n",
       "max     19152.000000            2010-12-09 20:01:00   25111.090000   \n",
       "std       107.424110                            NaN     146.126914   \n",
       "\n",
       "         Customer ID  \n",
       "count  417534.000000  \n",
       "mean    15360.645478  \n",
       "min     12346.000000  \n",
       "25%     13983.000000  \n",
       "50%     15311.000000  \n",
       "75%     16799.000000  \n",
       "max     18287.000000  \n",
       "std      1680.811316  "
      ]
     },
     "execution_count": 4,
     "metadata": {},
     "output_type": "execute_result"
    }
   ],
   "source": [
    "\n",
    "print(\"Getting Status as a table \\n\")\n",
    "\n",
    "df.describe()\n"
   ]
  },
  {
   "cell_type": "code",
   "execution_count": 5,
   "metadata": {},
   "outputs": [
    {
     "name": "stdout",
     "output_type": "stream",
     "text": [
      "counts missing values in each column \n",
      "\n"
     ]
    },
    {
     "data": {
      "text/plain": [
       "Invoice             0\n",
       "StockCode           0\n",
       "Description      2928\n",
       "Quantity            0\n",
       "InvoiceDate         0\n",
       "Price               0\n",
       "Customer ID    107927\n",
       "Country             0\n",
       "dtype: int64"
      ]
     },
     "execution_count": 5,
     "metadata": {},
     "output_type": "execute_result"
    }
   ],
   "source": [
    "print(\"counts missing values in each column \\n\")\n",
    "df.isnull().sum()"
   ]
  },
  {
   "cell_type": "code",
   "execution_count": 6,
   "metadata": {},
   "outputs": [
    {
     "name": "stdout",
     "output_type": "stream",
     "text": [
      "6865\n",
      "0\n",
      "Number of rows missing Customer ID: 107833\n"
     ]
    },
    {
     "data": {
      "text/plain": [
       "Invoice        0\n",
       "StockCode      0\n",
       "Description    0\n",
       "Quantity       0\n",
       "InvoiceDate    0\n",
       "Price          0\n",
       "Customer ID    0\n",
       "Country        0\n",
       "dtype: int64"
      ]
     },
     "execution_count": 6,
     "metadata": {},
     "output_type": "execute_result"
    }
   ],
   "source": [
    "# Handle dupplicates and missing values\n",
    "print(df.duplicated().sum())\n",
    "\n",
    "df.drop_duplicates(inplace=True)\n",
    "\n",
    "print(df.duplicated().sum())\n",
    "\n",
    "# Count missing Customer ID\n",
    "missing_customer_id = df['Customer ID'].isna().sum()\n",
    "print(f\"Number of rows missing Customer ID: {missing_customer_id}\")\n",
    "\n",
    "\n",
    "df.dropna(subset=['Customer ID'], inplace=True)\n",
    "df.isnull().sum()\n"
   ]
  },
  {
   "cell_type": "code",
   "execution_count": 7,
   "metadata": {},
   "outputs": [
    {
     "name": "stdout",
     "output_type": "stream",
     "text": [
      "Number of cancelled orders: 9816\n",
      "Total cancelled quantity: -211856\n",
      "Total cancelled value: -483378.16000000003\n",
      "Number of rows after removing cancelled orders: 400947\n"
     ]
    }
   ],
   "source": [
    "# Clean Transactional Data\n",
    "\n",
    "# Filter cancelled orders (Invoice starting with 'C')\n",
    "cancelled_orders = df[df['Invoice'].astype(str).str.startswith('C')]\n",
    "\n",
    "# Number of cancelled orders\n",
    "print(f\"Number of cancelled orders: {cancelled_orders.shape[0]}\")\n",
    "\n",
    "# Optional: total quantity or value of cancelled orders\n",
    "total_cancelled_quantity = cancelled_orders['Quantity'].sum()\n",
    "total_cancelled_value = (cancelled_orders['Quantity'] * cancelled_orders['Price']).sum()\n",
    "\n",
    "print(f\"Total cancelled quantity: {total_cancelled_quantity}\")\n",
    "print(f\"Total cancelled value: {total_cancelled_value}\")\n",
    "\n",
    "# Keep only non-cancelled orders\n",
    "df = df[~df['Invoice'].astype(str).str.startswith('C')]\n",
    "\n",
    "# Check\n",
    "print(f\"Number of rows after removing cancelled orders: {df.shape[0]}\")\n"
   ]
  },
  {
   "cell_type": "code",
   "execution_count": 8,
   "metadata": {},
   "outputs": [
    {
     "name": "stdout",
     "output_type": "stream",
     "text": [
      "(400947, 9)\n"
     ]
    },
    {
     "data": {
      "text/html": [
       "<div>\n",
       "<style scoped>\n",
       "    .dataframe tbody tr th:only-of-type {\n",
       "        vertical-align: middle;\n",
       "    }\n",
       "\n",
       "    .dataframe tbody tr th {\n",
       "        vertical-align: top;\n",
       "    }\n",
       "\n",
       "    .dataframe thead th {\n",
       "        text-align: right;\n",
       "    }\n",
       "</style>\n",
       "<table border=\"1\" class=\"dataframe\">\n",
       "  <thead>\n",
       "    <tr style=\"text-align: right;\">\n",
       "      <th></th>\n",
       "      <th>Invoice</th>\n",
       "      <th>StockCode</th>\n",
       "      <th>Description</th>\n",
       "      <th>Quantity</th>\n",
       "      <th>InvoiceDate</th>\n",
       "      <th>Price</th>\n",
       "      <th>Customer ID</th>\n",
       "      <th>Country</th>\n",
       "      <th>TotalPrice</th>\n",
       "    </tr>\n",
       "  </thead>\n",
       "  <tbody>\n",
       "    <tr>\n",
       "      <th>0</th>\n",
       "      <td>489434</td>\n",
       "      <td>85048</td>\n",
       "      <td>15CM CHRISTMAS GLASS BALL 20 LIGHTS</td>\n",
       "      <td>12</td>\n",
       "      <td>2009-12-01 07:45:00</td>\n",
       "      <td>6.95</td>\n",
       "      <td>13085.0</td>\n",
       "      <td>United Kingdom</td>\n",
       "      <td>83.4</td>\n",
       "    </tr>\n",
       "    <tr>\n",
       "      <th>1</th>\n",
       "      <td>489434</td>\n",
       "      <td>79323P</td>\n",
       "      <td>PINK CHERRY LIGHTS</td>\n",
       "      <td>12</td>\n",
       "      <td>2009-12-01 07:45:00</td>\n",
       "      <td>6.75</td>\n",
       "      <td>13085.0</td>\n",
       "      <td>United Kingdom</td>\n",
       "      <td>81.0</td>\n",
       "    </tr>\n",
       "    <tr>\n",
       "      <th>2</th>\n",
       "      <td>489434</td>\n",
       "      <td>79323W</td>\n",
       "      <td>WHITE CHERRY LIGHTS</td>\n",
       "      <td>12</td>\n",
       "      <td>2009-12-01 07:45:00</td>\n",
       "      <td>6.75</td>\n",
       "      <td>13085.0</td>\n",
       "      <td>United Kingdom</td>\n",
       "      <td>81.0</td>\n",
       "    </tr>\n",
       "    <tr>\n",
       "      <th>3</th>\n",
       "      <td>489434</td>\n",
       "      <td>22041</td>\n",
       "      <td>RECORD FRAME 7\" SINGLE SIZE</td>\n",
       "      <td>48</td>\n",
       "      <td>2009-12-01 07:45:00</td>\n",
       "      <td>2.10</td>\n",
       "      <td>13085.0</td>\n",
       "      <td>United Kingdom</td>\n",
       "      <td>100.8</td>\n",
       "    </tr>\n",
       "    <tr>\n",
       "      <th>4</th>\n",
       "      <td>489434</td>\n",
       "      <td>21232</td>\n",
       "      <td>STRAWBERRY CERAMIC TRINKET BOX</td>\n",
       "      <td>24</td>\n",
       "      <td>2009-12-01 07:45:00</td>\n",
       "      <td>1.25</td>\n",
       "      <td>13085.0</td>\n",
       "      <td>United Kingdom</td>\n",
       "      <td>30.0</td>\n",
       "    </tr>\n",
       "  </tbody>\n",
       "</table>\n",
       "</div>"
      ],
      "text/plain": [
       "  Invoice StockCode                          Description  Quantity  \\\n",
       "0  489434     85048  15CM CHRISTMAS GLASS BALL 20 LIGHTS        12   \n",
       "1  489434    79323P                   PINK CHERRY LIGHTS        12   \n",
       "2  489434    79323W                  WHITE CHERRY LIGHTS        12   \n",
       "3  489434     22041         RECORD FRAME 7\" SINGLE SIZE         48   \n",
       "4  489434     21232       STRAWBERRY CERAMIC TRINKET BOX        24   \n",
       "\n",
       "          InvoiceDate  Price  Customer ID         Country  TotalPrice  \n",
       "0 2009-12-01 07:45:00   6.95      13085.0  United Kingdom        83.4  \n",
       "1 2009-12-01 07:45:00   6.75      13085.0  United Kingdom        81.0  \n",
       "2 2009-12-01 07:45:00   6.75      13085.0  United Kingdom        81.0  \n",
       "3 2009-12-01 07:45:00   2.10      13085.0  United Kingdom       100.8  \n",
       "4 2009-12-01 07:45:00   1.25      13085.0  United Kingdom        30.0  "
      ]
     },
     "execution_count": 8,
     "metadata": {},
     "output_type": "execute_result"
    }
   ],
   "source": [
    "# Creating Column - TotalPrice\n",
    "\n",
    "df['TotalPrice'] = df['Quantity'] * df['Price']\n",
    "\n",
    "print(df.shape)\n",
    "df.head()\n"
   ]
  },
  {
   "cell_type": "markdown",
   "metadata": {},
   "source": [
    "# Charttttt Thinggggggggggg"
   ]
  },
  {
   "cell_type": "code",
   "execution_count": 9,
   "metadata": {},
   "outputs": [
    {
     "name": "stderr",
     "output_type": "stream",
     "text": [
      "/tmp/ipykernel_6523/1443445571.py:14: FutureWarning: 'M' is deprecated and will be removed in a future version, please use 'ME' instead.\n",
      "  monthly_sales = df.resample('M', on='InvoiceDate')['Sales'].sum()\n"
     ]
    },
    {
     "name": "stdout",
     "output_type": "stream",
     "text": [
      "Index Values =>  DatetimeIndex(['2009-12-31', '2010-01-31', '2010-02-28', '2010-03-31',\n",
      "               '2010-04-30', '2010-05-31', '2010-06-30', '2010-07-31',\n",
      "               '2010-08-31', '2010-09-30', '2010-10-31', '2010-11-30',\n",
      "               '2010-12-31'],\n",
      "              dtype='datetime64[ns]', name='InvoiceDate', freq='ME')\n",
      "Values =>  [ 683504.01   555802.672  504558.956  696978.471  591982.002  597833.38\n",
      "  636371.13   589736.17   602224.6    829013.951 1033112.01  1166460.022\n",
      "  310656.37 ]\n"
     ]
    },
    {
     "data": {
      "image/png": "[encoded data removed]",
      "text/plain": [
       "<Figure size 1200x600 with 1 Axes>"
      ]
     },
     "metadata": {},
     "output_type": "display_data"
    }
   ],
   "source": [
    "import pandas as pd\n",
    "import matplotlib.pyplot as plt\n",
    "\n",
    "# Make sure InvoiceDate is datetime\n",
    "df['InvoiceDate'] = pd.to_datetime(df['InvoiceDate'], errors='coerce')\n",
    "\n",
    "# Remove cancelled orders (Invoice starting with 'C') if not already removed\n",
    "# df = df[~df['Invoice'].astype(str).str.startswith('C')]\n",
    "\n",
    "# Create a 'Sales' column\n",
    "df['Sales'] = df['Quantity'] * df['Price']\n",
    "\n",
    "# Group by month\n",
    "monthly_sales = df.resample('M', on='InvoiceDate')['Sales'].sum()\n",
    "\n",
    "# Plotting\n",
    "plt.figure(figsize=(12,6)) # plt.figure() → creates a new figure (basically a blank canvas)\n",
    "plt.plot(monthly_sales.index, monthly_sales.values, marker='o', linestyle='--', color='red')\n",
    "\n",
    "print(\"Index Values => \",monthly_sales.index)\n",
    "print(\"Values => \",monthly_sales.values)\n",
    "\n",
    "plt.title('Monthly Total Sales Revenue')\n",
    "plt.xlabel('Month')\n",
    "plt.ylabel('Total Sales Revenue')\n",
    "plt.grid(True)\n",
    "plt.xticks(rotation=45)\n",
    "plt.tight_layout()\n",
    "plt.show()\n"
   ]
  },
  {
   "cell_type": "code",
   "execution_count": 10,
   "metadata": {},
   "outputs": [
    {
     "name": "stdout",
     "output_type": "stream",
     "text": [
      "Month\n",
      "1     25.898265\n",
      "2     21.897359\n",
      "3     21.929285\n",
      "4     22.060893\n",
      "5     21.174986\n",
      "6     20.734780\n",
      "7     22.133920\n",
      "8     23.135789\n",
      "9     24.289178\n",
      "10    21.202915\n",
      "11    19.801049\n",
      "12    22.358771\n",
      "Name: Sales, dtype: float64\n"
     ]
    },
    {
     "data": {
      "image/png": "[encoded data removed]",
      "text/plain": [
       "<Figure size 1000x500 with 1 Axes>"
      ]
     },
     "metadata": {},
     "output_type": "display_data"
    }
   ],
   "source": [
    "import pandas as pd\n",
    "import matplotlib.pyplot as plt\n",
    "\n",
    "# Make sure InvoiceDate is datetime\n",
    "df['InvoiceDate'] = pd.to_datetime(df['InvoiceDate'], errors='coerce')\n",
    "\n",
    "# Remove cancelled orders if not already removed\n",
    "# df = df[~df['Invoice'].astype(str).str.startswith('C')]\n",
    "\n",
    "# Create Sales column\n",
    "# df['Sales'] = df['Quantity'] * df['Price']\n",
    "\n",
    "# Extract month and year\n",
    "df['Month'] = df['InvoiceDate'].dt.month\n",
    "df['Year'] = df['InvoiceDate'].dt.year\n",
    "\n",
    "# Group by month (across years) and calculate average sales per month\n",
    "monthly_avg_sales = df.groupby('Month')['Sales'].mean()\n",
    "\n",
    "print(monthly_avg_sales)\n",
    "\n",
    "# Plot average monthly sales\n",
    "plt.figure(figsize=(10,5))\n",
    "monthly_avg_sales.plot(kind='bar', color='skyblue')\n",
    "plt.title('Average Monthly Sales Across Years')\n",
    "plt.xlabel('Month')\n",
    "plt.ylabel('Average Sales')\n",
    "plt.xticks(rotation=0)\n",
    "plt.grid(axis='y')\n",
    "plt.show()\n"
   ]
  },
  {
   "cell_type": "markdown",
   "metadata": {},
   "source": [
    "# Gonna create bar charts to analyse peak shopping times of DaysOfWeek and HourseOfDay"
   ]
  },
  {
   "cell_type": "code",
   "execution_count": 11,
   "metadata": {},
   "outputs": [
    {
     "name": "stdout",
     "output_type": "stream",
     "text": [
      "0        2009-12-01 07:45:00\n",
      "1        2009-12-01 07:45:00\n",
      "2        2009-12-01 07:45:00\n",
      "3        2009-12-01 07:45:00\n",
      "4        2009-12-01 07:45:00\n",
      "                 ...        \n",
      "525456   2010-12-09 20:01:00\n",
      "525457   2010-12-09 20:01:00\n",
      "525458   2010-12-09 20:01:00\n",
      "525459   2010-12-09 20:01:00\n",
      "525460   2010-12-09 20:01:00\n",
      "Name: InvoiceDate, Length: 400947, dtype: datetime64[ns]\n",
      "\n",
      "Day of Week:\n",
      " 0         1\n",
      "1         1\n",
      "2         1\n",
      "3         1\n",
      "4         1\n",
      "         ..\n",
      "525456    3\n",
      "525457    3\n",
      "525458    3\n",
      "525459    3\n",
      "525460    3\n",
      "Name: DayOfWeek, Length: 400947, dtype: int32\n",
      "\n",
      "Hour of Day:\n",
      " 0          7\n",
      "1          7\n",
      "2          7\n",
      "3          7\n",
      "4          7\n",
      "          ..\n",
      "525456    20\n",
      "525457    20\n",
      "525458    20\n",
      "525459    20\n",
      "525460    20\n",
      "Name: HourOfDay, Length: 400947, dtype: int32\n"
     ]
    },
    {
     "data": {
      "image/png": "[encoded data removed]",
      "text/plain": [
       "<Figure size 800x400 with 1 Axes>"
      ]
     },
     "metadata": {},
     "output_type": "display_data"
    },
    {
     "data": {
      "image/png": "[encoded data removed]",
      "text/plain": [
       "<Figure size 1000x400 with 1 Axes>"
      ]
     },
     "metadata": {},
     "output_type": "display_data"
    }
   ],
   "source": [
    "# Convert to datetime\n",
    "df['InvoiceDate'] = pd.to_datetime(df['InvoiceDate'], errors='coerce')\n",
    "\n",
    "# Extract day of week & hour\n",
    "df['DayOfWeek'] = df['InvoiceDate'].dt.dayofweek  \n",
    "df['HourOfDay'] = df['InvoiceDate'].dt.hour\n",
    "\n",
    "# just a pring to get an idea about dates and datas\n",
    "print(df['InvoiceDate'])\n",
    "print(\"\\nDay of Week:\\n\", df['DayOfWeek'])\n",
    "print(\"\\nHour of Day:\\n\", df['HourOfDay'])\n",
    "\n",
    "# Grouping week days as sales\n",
    "sales_by_day = df.groupby('DayOfWeek')['InvoiceDate'].count()\n",
    "\n",
    "# Grouping hours as sales\n",
    "sales_by_hour = df.groupby('HourOfDay')['InvoiceDate'].count()\n",
    "\n",
    "# Sales by Day chart\n",
    "plt.figure(figsize=(8, 4))\n",
    "plt.bar(sales_by_day.index, sales_by_day.values, color='skyblue', edgecolor='black')\n",
    "plt.title(\"Sales by Day of Week\")\n",
    "plt.xlabel(\"Days of Week\")\n",
    "plt.ylabel(\"Number of Sales\")\n",
    "plt.xticks(range(7), ['MON', 'TUE', 'WED', 'THU', 'FRI', 'SAT', 'SUN'])\n",
    "plt.grid(axis='y', linestyle='--', alpha=0.5)\n",
    "plt.show()\n",
    "\n",
    "# Sales by Hour chart\n",
    "plt.figure(figsize=(10, 4))\n",
    "plt.bar(sales_by_hour.index, sales_by_hour.values, color='yellow', edgecolor='black')\n",
    "plt.title(\"Sales by Hour of Day\")\n",
    "plt.xlabel(\"Hour of Day (0–23)\")\n",
    "plt.ylabel(\"Number of Sales\")\n",
    "plt.xticks(range(0, 24))\n",
    "plt.grid(axis='y', linestyle='--', alpha=0.5)\n",
    "plt.show()\n"
   ]
  },
  {
   "cell_type": "markdown",
   "metadata": {},
   "source": [
    "# Gonna Analyse Top 10 countries by total sales revenue"
   ]
  },
  {
   "cell_type": "code",
   "execution_count": 12,
   "metadata": {},
   "outputs": [
    {
     "name": "stdout",
     "output_type": "stream",
     "text": [
      "Total Sales Revenue Of Each Country :  Country\n",
      "Australia                 31446.800\n",
      "Austria                   13414.330\n",
      "Bahrain                     805.970\n",
      "Belgium                   24537.580\n",
      "Brazil                      268.270\n",
      "Canada                     1216.660\n",
      "Channel Islands           24546.320\n",
      "Cyprus                    11347.100\n",
      "Denmark                   50906.850\n",
      "EIRE                     356041.860\n",
      "Finland                    7379.460\n",
      "France                   146107.070\n",
      "Germany                  202025.391\n",
      "Greece                    14335.670\n",
      "Iceland                    1323.320\n",
      "Israel                     3199.400\n",
      "Italy                     15052.730\n",
      "Japan                      9722.020\n",
      "Korea                      1118.510\n",
      "Lithuania                  4892.680\n",
      "Malta                      5373.500\n",
      "Netherlands              268784.350\n",
      "Nigeria                     140.390\n",
      "Norway                    23944.180\n",
      "Poland                     3567.800\n",
      "Portugal                  23843.460\n",
      "RSA                         931.430\n",
      "Singapore                  4037.770\n",
      "Spain                     47568.650\n",
      "Sweden                    53147.990\n",
      "Switzerland               43921.390\n",
      "Thailand                   3070.540\n",
      "USA                        4786.470\n",
      "United Arab Emirates       7300.410\n",
      "United Kingdom          7381644.433\n",
      "Unspecified                5946.580\n",
      "West Indies                 536.410\n",
      "Name: TotalPrice, dtype: float64\n",
      "\n",
      "\n",
      "Top 10 Countries with high sales revenue Country\n",
      "United Kingdom    7381644.433\n",
      "EIRE               356041.860\n",
      "Netherlands        268784.350\n",
      "Germany            202025.391\n",
      "France             146107.070\n",
      "Sweden              53147.990\n",
      "Denmark             50906.850\n",
      "Spain               47568.650\n",
      "Switzerland         43921.390\n",
      "Australia           31446.800\n",
      "Name: TotalPrice, dtype: float64\n"
     ]
    }
   ],
   "source": [
    "# print(df['Country'])\n",
    "\n",
    "total_sales_revenue_of_each_country = df.groupby('Country')['TotalPrice'].sum()\n",
    "\n",
    "print(\"Total Sales Revenue Of Each Country : \",total_sales_revenue_of_each_country)\n",
    "\n",
    "print()\n",
    "print()\n",
    "\n",
    "top_10_countries_by_high_sales_revenue = total_sales_revenue_of_each_country.sort_values(ascending=False).head(10)\n",
    "\n",
    "print(\"Top 10 Countries with high sales revenue\", top_10_countries_by_high_sales_revenue)\n",
    "\n",
    "\n"
   ]
  },
  {
   "cell_type": "markdown",
   "metadata": {},
   "source": [
    "# They ask for, out of all the money they made from all countries, which percentage they made in uk alone vs which percentage they made from all the other countries(sum of other country's money except uk)"
   ]
  },
  {
   "cell_type": "code",
   "execution_count": 13,
   "metadata": {},
   "outputs": [
    {
     "name": "stdout",
     "output_type": "stream",
     "text": [
      "How much money they made in UK: 7381644.432999999\n",
      "How much money they made in other countries except uk :  1416589.311\n",
      "Total Item Count In Uk :  4430926\n",
      "Total Item Count In Other Countries Except UK :  1089522\n",
      "Percentage Of Uk Sales :  1.665937195295069\n",
      "Percentage of other country sales except uk :  1.3001933976551185\n"
     ]
    }
   ],
   "source": [
    "total_money_they_made_in_uk = df[df['Country'] == 'United Kingdom']['TotalPrice'].sum()\n",
    "\n",
    "print(\"How much money they made in UK:\", total_money_they_made_in_uk)\n",
    "\n",
    "# Counting how much mony they made in other countries except in uk\n",
    "\n",
    "total_money_they_made_in_other_countries = df[df['Country'] != 'United Kingdom']['TotalPrice'].sum()\n",
    "\n",
    "print(\"How much money they made in other countries except uk : \", total_money_they_made_in_other_countries)\n",
    "\n",
    "# calculate percentage of uk\n",
    "\n",
    "# printing saled item count in uk\n",
    "\n",
    "total_item_count_in_uk = df[df['Country'] == 'United Kingdom']['Quantity'].sum()\n",
    "\n",
    "print(\"Total Item Count In Uk : \", total_item_count_in_uk)\n",
    "\n",
    "total_item_count_in_other_countries_excep_uk = df[df['Country'] != 'United Kingdom']['Quantity'].sum()\n",
    "\n",
    "print(\"Total Item Count In Other Countries Except UK : \", total_item_count_in_other_countries_excep_uk)\n",
    "\n",
    "# Counting The Percentage\n",
    "\n",
    "percentage_of_uk_sales = total_money_they_made_in_uk / total_item_count_in_uk\n",
    "\n",
    "percentage_of_other_country_sales = total_money_they_made_in_other_countries / total_item_count_in_other_countries_excep_uk\n",
    "\n",
    "print(\"Percentage Of Uk Sales : \",percentage_of_uk_sales)\n",
    "print(\"Percentage of other country sales except uk : \", percentage_of_other_country_sales)\n",
    "\n",
    "\n"
   ]
  },
  {
   "cell_type": "markdown",
   "metadata": {},
   "source": [
    "# Creating bar chart to visualize sales revenue by country"
   ]
  },
  {
   "cell_type": "code",
   "execution_count": 14,
   "metadata": {},
   "outputs": [
    {
     "name": "stdout",
     "output_type": "stream",
     "text": [
      "Country\n",
      "United Kingdom    7381644.433\n",
      "EIRE               356041.860\n",
      "Netherlands        268784.350\n",
      "Germany            202025.391\n",
      "France             146107.070\n",
      "Sweden              53147.990\n",
      "Denmark             50906.850\n",
      "Spain               47568.650\n",
      "Switzerland         43921.390\n",
      "Australia           31446.800\n",
      "Name: TotalPrice, dtype: float64\n"
     ]
    },
    {
     "data": {
      "text/plain": [
       "Text(0, 0.5, 'countries')"
      ]
     },
     "execution_count": 14,
     "metadata": {},
     "output_type": "execute_result"
    },
    {
     "data": {
      "image/png": "[encoded data removed]",
      "text/plain": [
       "<Figure size 800x400 with 1 Axes>"
      ]
     },
     "metadata": {},
     "output_type": "display_data"
    }
   ],
   "source": [
    "print(top_10_countries_by_high_sales_revenue)\n",
    "\n",
    "plt.figure(figsize=(8, 4))\n",
    "plt.bar(top_10_countries_by_high_sales_revenue.index, top_10_countries_by_high_sales_revenue.values, color='skyblue', edgecolor='black')\n",
    "plt.title(\"Top 10 countries which made highest sales revenue\")\n",
    "plt.xlabel(\"revenue\")\n",
    "plt.ylabel(\"countries\")\n"
   ]
  },
  {
   "cell_type": "markdown",
   "metadata": {},
   "source": [
    "# Basically gonna anlyse about product perfomance in 2 ways\n",
    "# Top 10 products by quantity sold\n",
    "# Top 10 products by total revenue"
   ]
  },
  {
   "cell_type": "code",
   "execution_count": 15,
   "metadata": {},
   "outputs": [
    {
     "name": "stdout",
     "output_type": "stream",
     "text": [
      "Quantity Of Top 10 Products Have Been Sold!\n",
      "\n",
      "                              Product  Total Quantity Sold\n",
      "0  WHITE HANGING HEART T-LIGHT HOLDER                56814\n",
      "1   WORLD WAR 2 GLIDERS ASSTD DESIGNS                54610\n",
      "2                 BROCADE RING PURSE                 48166\n",
      "3    PACK OF 72 RETRO SPOT CAKE CASES                45129\n",
      "4       ASSORTED COLOUR BIRD ORNAMENT                44431\n",
      "5         60 TEATIME FAIRY CAKE CASES                35656\n",
      "6  PACK OF 60 PINK PAISLEY CAKE CASES                30871\n",
      "7             JUMBO BAG RED RETROSPOT                29519\n",
      "8                SMALL POPCORN HOLDER                25703\n",
      "9  BLACK AND WHITE PAISLEY FLOWER MUG                25685\n",
      "\n",
      "\n",
      "Total Revenue Of Top 10 Products Have Been Sold!\n",
      "\n",
      "                               Product  Total Revenue\n",
      "0   WHITE HANGING HEART T-LIGHT HOLDER      151339.16\n",
      "1             REGENCY CAKESTAND 3 TIER      143727.60\n",
      "2                               Manual       98531.99\n",
      "3        ASSORTED COLOUR BIRD ORNAMENT       70291.03\n",
      "4              JUMBO BAG RED RETROSPOT       51644.25\n",
      "5                              POSTAGE       48741.08\n",
      "6  ROTATING SILVER ANGELS T-LIGHT HLDR       40156.05\n",
      "7      PAPER CHAIN KIT 50'S CHRISTMAS        36871.55\n",
      "8                        PARTY BUNTING       35017.30\n",
      "9            EDWARDIAN PARASOL NATURAL       34044.75\n"
     ]
    }
   ],
   "source": [
    "# Top 10 products by quantity\n",
    "top_qty = df.groupby('Description')['Quantity'].sum().sort_values(ascending=False).head(10).reset_index()\n",
    "\n",
    "print(\"Quantity Of Top 10 Products Have Been Sold!\")\n",
    "print()\n",
    "top_qty.columns = ['Product', 'Total Quantity Sold']\n",
    "print(top_qty)\n",
    "\n",
    "print()\n",
    "print()\n",
    "\n",
    "# Top 10 products by revenue\n",
    "top_revenue = df.groupby('Description')['TotalPrice'].sum().sort_values(ascending=False).head(10).reset_index()\n",
    "\n",
    "print(\"Total Revenue Of Top 10 Products Have Been Sold!\")\n",
    "print()\n",
    "top_revenue.columns = ['Product', 'Total Revenue']\n",
    "print(top_revenue)\n"
   ]
  },
  {
   "cell_type": "markdown",
   "metadata": {},
   "source": [
    "# Phase 2 > 3 > last point says to explain, basically its a discussion............"
   ]
  },
  {
   "cell_type": "markdown",
   "metadata": {},
   "source": [
    "\n",
    "# Gonna Start RFM Thinggggggggggggg.........!!!!!!"
   ]
  },
  {
   "cell_type": "code",
   "execution_count": 16,
   "metadata": {},
   "outputs": [
    {
     "name": "stdout",
     "output_type": "stream",
     "text": [
      "The most recent invoice date is  2010-12-09 20:01:00\n"
     ]
    },
    {
     "data": {
      "text/plain": [
       "Customer ID\n",
       "12346.0    66\n",
       "12347.0     2\n",
       "12348.0    73\n",
       "12349.0    42\n",
       "12351.0    10\n",
       "Name: InvoiceDate, dtype: int64"
      ]
     },
     "execution_count": 16,
     "metadata": {},
     "output_type": "execute_result"
    }
   ],
   "source": [
    "# creating a new dataframe\n",
    "import pandas as pd\n",
    "\n",
    "df = pd.read_csv(\"../UniqueGiftsLTDProject/online_retail_II_full.csv\")\n",
    "df.head()\n",
    "\n",
    "# removing duplicates of customers by CustomerID\n",
    "\n",
    "df_unique_customers = df.drop_duplicates(subset=\"Customer ID\")\n",
    "df_unique_customers.head()\n",
    "\n",
    "# convers invoice date to datetime format\n",
    "df['InvoiceDate'] = pd.to_datetime(df['InvoiceDate'])\n",
    "\n",
    "# finding the most recent date to get the snapshot date\n",
    "most_recent = df['InvoiceDate'].max()\n",
    "print(\"The most recent invoice date is \", most_recent) # 2010-12-09 20:01:00\n",
    "\n",
    "snapshot_date = pd.to_datetime(\"2010-12-10\")\n",
    "# snapshot_date = df['InvoiceDate'].max() + pd.Timedelta(days=1)\n",
    "\n",
    "last_date_each_customer_purchase_an_item = df.groupby('Customer ID')['InvoiceDate'].max()\n",
    "last_date_each_customer_purchase_an_item.head()\n",
    "\n",
    "# Calculating Recency\n",
    "recency = snapshot_date - last_date_each_customer_purchase_an_item\n",
    "recency.head()\n",
    "recency_days = recency.dt.days\n",
    "recency_days.head()\n",
    "\n",
    "\n",
    "\n",
    "\n"
   ]
  },
  {
   "cell_type": "code",
   "execution_count": 17,
   "metadata": {},
   "outputs": [
    {
     "data": {
      "text/plain": [
       "Customer ID\n",
       "12346.0    15\n",
       "12347.0     2\n",
       "12348.0     1\n",
       "12349.0     4\n",
       "12351.0     1\n",
       "Name: Invoice, dtype: int64"
      ]
     },
     "execution_count": 17,
     "metadata": {},
     "output_type": "execute_result"
    }
   ],
   "source": [
    "# Calculating Frequency\n",
    "\n",
    "# print(df.columns)\n",
    "\n",
    "frequancy = df.groupby('Customer ID')['Invoice'].nunique()\n",
    "frequancy.head()\n",
    "\n"
   ]
  },
  {
   "cell_type": "code",
   "execution_count": 18,
   "metadata": {},
   "outputs": [
    {
     "data": {
      "text/plain": [
       "Customer ID\n",
       "12346.0     -64.68\n",
       "12347.0    1323.32\n",
       "12348.0     222.16\n",
       "12349.0    2646.99\n",
       "12351.0     300.93\n",
       "Name: TotalPrice, dtype: float64"
      ]
     },
     "execution_count": 18,
     "metadata": {},
     "output_type": "execute_result"
    }
   ],
   "source": [
    "# Calculating Moneytary\n",
    "\n",
    "# Creating TotalPrice column\n",
    "df['TotalPrice'] = df['Price'] * df['Quantity']\n",
    "\n",
    "monetary = df.groupby('Customer ID')['TotalPrice'].sum()\n",
    "\n",
    "monetary.head()\n",
    "\n",
    "\n"
   ]
  },
  {
   "cell_type": "code",
   "execution_count": 29,
   "metadata": {},
   "outputs": [
    {
     "data": {
      "text/html": [
       "<div>\n",
       "<style scoped>\n",
       "    .dataframe tbody tr th:only-of-type {\n",
       "        vertical-align: middle;\n",
       "    }\n",
       "\n",
       "    .dataframe tbody tr th {\n",
       "        vertical-align: top;\n",
       "    }\n",
       "\n",
       "    .dataframe thead th {\n",
       "        text-align: right;\n",
       "    }\n",
       "</style>\n",
       "<table border=\"1\" class=\"dataframe\">\n",
       "  <thead>\n",
       "    <tr style=\"text-align: right;\">\n",
       "      <th></th>\n",
       "      <th>Recency</th>\n",
       "      <th>Frequency</th>\n",
       "      <th>Monetary</th>\n",
       "    </tr>\n",
       "    <tr>\n",
       "      <th>Customer ID</th>\n",
       "      <th></th>\n",
       "      <th></th>\n",
       "      <th></th>\n",
       "    </tr>\n",
       "  </thead>\n",
       "  <tbody>\n",
       "    <tr>\n",
       "      <th>12346.0</th>\n",
       "      <td>66 days 07:27:00</td>\n",
       "      <td>15</td>\n",
       "      <td>-64.68</td>\n",
       "    </tr>\n",
       "    <tr>\n",
       "      <th>12347.0</th>\n",
       "      <td>2 days 09:03:00</td>\n",
       "      <td>2</td>\n",
       "      <td>1323.32</td>\n",
       "    </tr>\n",
       "    <tr>\n",
       "      <th>12348.0</th>\n",
       "      <td>73 days 09:01:00</td>\n",
       "      <td>1</td>\n",
       "      <td>222.16</td>\n",
       "    </tr>\n",
       "    <tr>\n",
       "      <th>12349.0</th>\n",
       "      <td>42 days 15:37:00</td>\n",
       "      <td>4</td>\n",
       "      <td>2646.99</td>\n",
       "    </tr>\n",
       "    <tr>\n",
       "      <th>12351.0</th>\n",
       "      <td>10 days 08:37:00</td>\n",
       "      <td>1</td>\n",
       "      <td>300.93</td>\n",
       "    </tr>\n",
       "  </tbody>\n",
       "</table>\n",
       "</div>"
      ],
      "text/plain": [
       "                     Recency  Frequency  Monetary\n",
       "Customer ID                                      \n",
       "12346.0     66 days 07:27:00         15    -64.68\n",
       "12347.0      2 days 09:03:00          2   1323.32\n",
       "12348.0     73 days 09:01:00          1    222.16\n",
       "12349.0     42 days 15:37:00          4   2646.99\n",
       "12351.0     10 days 08:37:00          1    300.93"
      ]
     },
     "execution_count": 29,
     "metadata": {},
     "output_type": "execute_result"
    }
   ],
   "source": [
    "rfm = pd.DataFrame({\n",
    "    'Recency' : recency,\n",
    "    'Frequency' : frequancy,\n",
    "    'Monetary' : monetary\n",
    "})\n",
    "\n",
    "rfm.head()"
   ]
  },
  {
   "cell_type": "code",
   "execution_count": 55,
   "metadata": {},
   "outputs": [
    {
     "name": "stdout",
     "output_type": "stream",
     "text": [
      "Customer ID\n",
      "12346.0    3\n",
      "12347.0    1\n",
      "12348.0    4\n",
      "12349.0    3\n",
      "12351.0    1\n",
      "Name: Recency, dtype: int64\n",
      "Customer ID\n",
      "12346.0    3\n",
      "12347.0    5\n",
      "12348.0    2\n",
      "12349.0    3\n",
      "12351.0    5\n",
      "Name: Recency_Quintile, dtype: int64\n",
      "\n",
      "Customer ID\n",
      "12346.0    5\n",
      "12347.0    2\n",
      "12348.0    5\n",
      "12349.0    1\n",
      "12351.0    4\n",
      "Name: MOnetary_Quintile, dtype: int64\n"
     ]
    }
   ],
   "source": [
    "# Dividing customers into five equal sized groups\n",
    "\n",
    "# According to Recency\n",
    "rfm['Recency_Quintile'] = pd.qcut(rfm['Recency'], 5, labels=[5, 4, 3, 2, 1]).astype(int)\n",
    "# rfm['Recency_Quintile'] = pd.qcut(rfm['Recency'], 5, labels=[5, 4, 3, 2, 1], duplicates='drop').astype(int)\n",
    "\n",
    "print(rfm['Recency'].head())\n",
    "print(rfm['Recency_Quintile'].head())\n",
    "\n",
    "print()\n",
    "\n",
    "# According to Monettory\n",
    "\n",
    "rfm['MOnetary_Quintile'] = pd.qcut(rfm['Monetary'], 5, labels=[5, 4, 3, 2, 1]).astype(int)\n",
    "\n",
    "print(rfm['MOnetary_Quintile'].head())\n",
    "\n",
    "# # According to Frequency\n",
    "# rfm['Frequency_Quintile'] =  pd.qcut(rfm['Frequency'], 5, labels=[1, 2, 3, 4, 5]).astype(int)\n",
    "\n",
    "# print(rfm['Frequency_Quintile'].head())\n",
    "\n"
   ]
  },
  {
   "cell_type": "code",
   "execution_count": 27,
   "metadata": {},
   "outputs": [
    {
     "name": "stdout",
     "output_type": "stream",
     "text": [
      "   CustomerID  Recency  Frequency  Monetary  R  F  M  RFM_Score\n",
      "0           1        2          1       100  5  1  2          8\n",
      "1           2        5          3       300  4  3  3         10\n",
      "2           3       10          2       150  3  2  2          7\n",
      "3           4        1          1        80  5  1  1          7\n",
      "4           5       20          5       500  2  4  5         11\n",
      "5           6       30          3       350  1  3  4          8\n",
      "6           7       25          2       200  1  2  3          6\n",
      "7           8        5          1        90  4  1  1          6\n",
      "8           9        2          4       400  5  4  4         13\n",
      "9          10       15          5       450  2  4  5         11\n"
     ]
    }
   ],
   "source": [
    "import pandas as pd\n",
    "\n",
    "# Example data: 10 customers\n",
    "data = pd.DataFrame({\n",
    "    'CustomerID': range(1, 11),\n",
    "    'Recency': [2, 5, 10, 1, 20, 30, 25, 5, 2, 15],\n",
    "    'Frequency': [1, 3, 2, 1, 5, 3, 2, 1, 4, 5],\n",
    "    'Monetary': [100, 300, 150, 80, 500, 350, 200, 90, 400, 450]\n",
    "})\n",
    "\n",
    "# Recency: smaller = better → reverse labels\n",
    "data['R'] = pd.qcut(data['Recency'], 5, labels=[5,4,3,2,1], duplicates='drop').astype(int)\n",
    "\n",
    "# Frequency: bigger = better → adjust labels to actual number of bins\n",
    "freq_bins = pd.qcut(data['Frequency'], 5, duplicates='drop')\n",
    "num_bins_freq = len(freq_bins.cat.categories)\n",
    "data['F'] = pd.qcut(data['Frequency'], num_bins_freq, labels=range(1, num_bins_freq+1)).astype(int)\n",
    "\n",
    "# Monetary: bigger = better → adjust labels to actual number of bins\n",
    "mon_bins = pd.qcut(data['Monetary'], 5, duplicates='drop')\n",
    "num_bins_mon = len(mon_bins.cat.categories)\n",
    "data['M'] = pd.qcut(data['Monetary'], num_bins_mon, labels=range(1, num_bins_mon+1)).astype(int)\n",
    "\n",
    "# Optional: RFM score\n",
    "data['RFM_Score'] = data['R'] + data['F'] + data['M']\n",
    "\n",
    "print(data)\n"
   ]
  }
 ],
 "metadata": {
  "kernelspec": {
   "display_name": "Python 3 (ipykernel)",
   "language": "python",
   "name": "python3"
  },
  "language_info": {
   "codemirror_mode": {
    "name": "ipython",
    "version": 3
   },
   "file_extension": ".py",
   "mimetype": "text/x-python",
   "name": "python",
   "nbconvert_exporter": "python",
   "pygments_lexer": "ipython3",
   "version": "3.10.12"
  }
 },
 "nbformat": 4,
 "nbformat_minor": 4
}
