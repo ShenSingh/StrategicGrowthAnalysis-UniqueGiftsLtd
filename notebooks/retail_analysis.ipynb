{
 "cells": [
  {
   "cell_type": "markdown",
   "id": "58ec28eb98288c58",
   "metadata": {},
   "source": [
    "# StrategicGrowthAnalysis-UniqueGiftsLtd"
   ]
  },
  {
   "cell_type": "code",
   "execution_count": 1,
   "id": "1a5ef22349c191ab",
   "metadata": {
    "ExecuteTime": {
     "end_time": "2025-08-11T05:01:31.041523Z",
     "start_time": "2025-08-11T05:00:53.150652Z"
    }
   },
   "outputs": [
    {
     "name": "stdout",
     "output_type": "stream",
     "text": [
      "Downloading dataset with progress:\n"
     ]
    },
    {
     "name": "stderr",
     "output_type": "stream",
     "text": [
      "../data/dataset.csv: 89.7MiB [00:14, 6.68MiB/s]"
     ]
    },
    {
     "name": "stdout",
     "output_type": "stream",
     "text": [
      "Download complete!\n"
     ]
    },
    {
     "name": "stderr",
     "output_type": "stream",
     "text": [
      "\n"
     ]
    }
   ],
   "source": [
    "import requests # for downloading the dataset\n",
    "import os # for file operations\n",
    "from tqdm import tqdm  # progress bar library\n",
    "\n",
    "url = \"https://docs.google.com/spreadsheets/d/1RZ0nYqAUgSivbfIiMsbZfEy2yg5KzNBcbGThzDPHx7c/export?format=csv\"\n",
    "file_path = \"../data/dataset.csv\" # Path to save the dataset\n",
    "\n",
    "os.makedirs(\"../data\", exist_ok=True)\n",
    "\n",
    "response = requests.get(url, stream=True)\n",
    "total_size = int(response.headers.get('content-length', 0))\n",
    "block_size = 1024  # 1 KB\n",
    "\n",
    "print(\"Downloading dataset with progress:\")\n",
    "\n",
    "with open(file_path, \"wb\") as file, tqdm(\n",
    "    desc=file_path,\n",
    "    total=total_size,\n",
    "    unit='iB',\n",
    "    unit_scale=True,\n",
    "    unit_divisor=1024,\n",
    ") as bar:\n",
    "    for data in response.iter_content(block_size):\n",
    "        file.write(data)\n",
    "        bar.update(len(data))\n",
    "\n",
    "print(\"Download complete!\")\n",
    "\n"
   ]
  },
  {
   "cell_type": "markdown",
   "id": "4a55d76c6590f085",
   "metadata": {},
   "source": [
    "create a function to load the dataset"
   ]
  },
  {
   "cell_type": "code",
   "execution_count": 2,
   "id": "1f8cceb0c95953e3",
   "metadata": {
    "ExecuteTime": {
     "end_time": "2025-08-11T05:01:31.705607Z",
     "start_time": "2025-08-11T05:01:31.066810Z"
    }
   },
   "outputs": [
    {
     "name": "stdout",
     "output_type": "stream",
     "text": [
      "Dataset loaded successfully with 1067371 rows and 8 columns.\n"
     ]
    }
   ],
   "source": [
    "import pandas as pd\n",
    "\n",
    "if not os.path.exists(file_path): # Check if the file exists\n",
    "    raise FileNotFoundError(f\"Dataset file not found at {file_path}. Please check the download process.\")\n",
    "\n",
    "df = pd.read_csv(file_path) # Load the dataset\n",
    "print(f\"Dataset loaded successfully with {df.shape[0]} rows and {df.shape[1]} columns.\")\n"
   ]
  },
  {
   "cell_type": "markdown",
   "id": "a80f562ebc60cfa5",
   "metadata": {},
   "source": [
    "your task is to analyze the dataset and provide insights on how UniqueGiftsLtd can strategically grow its business."
   ]
  },
  {
   "cell_type": "code",
   "execution_count": 3,
   "id": "a71b47e72b42024f",
   "metadata": {
    "ExecuteTime": {
     "end_time": "2025-08-11T05:01:32.400448Z",
     "start_time": "2025-08-11T05:01:31.716191Z"
    }
   },
   "outputs": [
    {
     "name": "stdout",
     "output_type": "stream",
     "text": [
      "Dataset loaded successfully!\n"
     ]
    },
    {
     "data": {
      "text/html": [
       "<div>\n",
       "<style scoped>\n",
       "    .dataframe tbody tr th:only-of-type {\n",
       "        vertical-align: middle;\n",
       "    }\n",
       "\n",
       "    .dataframe tbody tr th {\n",
       "        vertical-align: top;\n",
       "    }\n",
       "\n",
       "    .dataframe thead th {\n",
       "        text-align: right;\n",
       "    }\n",
       "</style>\n",
       "<table border=\"1\" class=\"dataframe\">\n",
       "  <thead>\n",
       "    <tr style=\"text-align: right;\">\n",
       "      <th></th>\n",
       "      <th>Invoice</th>\n",
       "      <th>StockCode</th>\n",
       "      <th>Description</th>\n",
       "      <th>Quantity</th>\n",
       "      <th>InvoiceDate</th>\n",
       "      <th>Price</th>\n",
       "      <th>Customer ID</th>\n",
       "      <th>Country</th>\n",
       "    </tr>\n",
       "  </thead>\n",
       "  <tbody>\n",
       "    <tr>\n",
       "      <th>0</th>\n",
       "      <td>489434</td>\n",
       "      <td>85048</td>\n",
       "      <td>15CM CHRISTMAS GLASS BALL 20 LIGHTS</td>\n",
       "      <td>12</td>\n",
       "      <td>2009-12-01 07:45:00</td>\n",
       "      <td>6.95</td>\n",
       "      <td>13085.0</td>\n",
       "      <td>United Kingdom</td>\n",
       "    </tr>\n",
       "    <tr>\n",
       "      <th>1</th>\n",
       "      <td>489434</td>\n",
       "      <td>79323P</td>\n",
       "      <td>PINK CHERRY LIGHTS</td>\n",
       "      <td>12</td>\n",
       "      <td>2009-12-01 07:45:00</td>\n",
       "      <td>6.75</td>\n",
       "      <td>13085.0</td>\n",
       "      <td>United Kingdom</td>\n",
       "    </tr>\n",
       "    <tr>\n",
       "      <th>2</th>\n",
       "      <td>489434</td>\n",
       "      <td>79323W</td>\n",
       "      <td>WHITE CHERRY LIGHTS</td>\n",
       "      <td>12</td>\n",
       "      <td>2009-12-01 07:45:00</td>\n",
       "      <td>6.75</td>\n",
       "      <td>13085.0</td>\n",
       "      <td>United Kingdom</td>\n",
       "    </tr>\n",
       "    <tr>\n",
       "      <th>3</th>\n",
       "      <td>489434</td>\n",
       "      <td>22041</td>\n",
       "      <td>RECORD FRAME 7\" SINGLE SIZE</td>\n",
       "      <td>48</td>\n",
       "      <td>2009-12-01 07:45:00</td>\n",
       "      <td>2.10</td>\n",
       "      <td>13085.0</td>\n",
       "      <td>United Kingdom</td>\n",
       "    </tr>\n",
       "    <tr>\n",
       "      <th>4</th>\n",
       "      <td>489434</td>\n",
       "      <td>21232</td>\n",
       "      <td>STRAWBERRY CERAMIC TRINKET BOX</td>\n",
       "      <td>24</td>\n",
       "      <td>2009-12-01 07:45:00</td>\n",
       "      <td>1.25</td>\n",
       "      <td>13085.0</td>\n",
       "      <td>United Kingdom</td>\n",
       "    </tr>\n",
       "  </tbody>\n",
       "</table>\n",
       "</div>"
      ],
      "text/plain": [
       "  Invoice StockCode                          Description  Quantity  \\\n",
       "0  489434     85048  15CM CHRISTMAS GLASS BALL 20 LIGHTS        12   \n",
       "1  489434    79323P                   PINK CHERRY LIGHTS        12   \n",
       "2  489434    79323W                  WHITE CHERRY LIGHTS        12   \n",
       "3  489434     22041         RECORD FRAME 7\" SINGLE SIZE         48   \n",
       "4  489434     21232       STRAWBERRY CERAMIC TRINKET BOX        24   \n",
       "\n",
       "           InvoiceDate  Price  Customer ID         Country  \n",
       "0  2009-12-01 07:45:00   6.95      13085.0  United Kingdom  \n",
       "1  2009-12-01 07:45:00   6.75      13085.0  United Kingdom  \n",
       "2  2009-12-01 07:45:00   6.75      13085.0  United Kingdom  \n",
       "3  2009-12-01 07:45:00   2.10      13085.0  United Kingdom  \n",
       "4  2009-12-01 07:45:00   1.25      13085.0  United Kingdom  "
      ]
     },
     "execution_count": 3,
     "metadata": {},
     "output_type": "execute_result"
    }
   ],
   "source": [
    "# Display the first few rows of the dataset\n",
    "try:\n",
    "    df = pd.read_csv('../data/dataset.csv')  # Adjust the path as necessary\n",
    "    print(\"Dataset loaded successfully!\")\n",
    "except FileNotFoundError:\n",
    "    print(\"Error: The file 'online_retail.csv' was not found in the 'data' folder.\")\n",
    "    print(\"Please make sure you have downloaded the dataset and placed it in the correct folder.\")\n",
    "\n",
    "# Display the first 5 rows to get an idea of the data\n",
    "df.head()"
   ]
  },
  {
   "cell_type": "markdown",
   "id": "86bef21c2801927b",
   "metadata": {},
   "source": [
    "Have fun creating your demo method using the dataset (df)! 🚀📊😊"
   ]
  },
  {
   "cell_type": "code",
   "execution_count": 4,
   "id": "ee2ff62b888eab86",
   "metadata": {
    "ExecuteTime": {
     "end_time": "2025-08-11T05:01:32.554815Z",
     "start_time": "2025-08-11T05:01:32.437513Z"
    }
   },
   "outputs": [
    {
     "name": "stdout",
     "output_type": "stream",
     "text": [
      "Dataframe Info:\n",
      "<class 'pandas.core.frame.DataFrame'>\n",
      "RangeIndex: 1067371 entries, 0 to 1067370\n",
      "Data columns (total 8 columns):\n",
      " #   Column       Non-Null Count    Dtype  \n",
      "---  ------       --------------    -----  \n",
      " 0   Invoice      1067371 non-null  object \n",
      " 1   StockCode    1067371 non-null  object \n",
      " 2   Description  1062989 non-null  object \n",
      " 3   Quantity     1067371 non-null  int64  \n",
      " 4   InvoiceDate  1067371 non-null  object \n",
      " 5   Price        1067371 non-null  float64\n",
      " 6   Customer ID  824364 non-null   float64\n",
      " 7   Country      1067371 non-null  object \n",
      "dtypes: float64(2), int64(1), object(5)\n",
      "memory usage: 65.1+ MB\n",
      "\n",
      "==================================================\n",
      "\n"
     ]
    }
   ],
   "source": [
    "print(\"Dataframe Info:\")\n",
    "df.info()\n",
    "\n",
    "print(\"\\n\" + \"=\"*50 + \"\\n\")"
   ]
  },
  {
   "cell_type": "code",
   "execution_count": 5,
   "id": "dc4853619454286f",
   "metadata": {
    "ExecuteTime": {
     "end_time": "2025-08-11T05:01:32.660634Z",
     "start_time": "2025-08-11T05:01:32.580532Z"
    }
   },
   "outputs": [
    {
     "name": "stdout",
     "output_type": "stream",
     "text": [
      "Numerical Describe:\n",
      "           Quantity         Price    Customer ID\n",
      "count  1.067371e+06  1.067371e+06  824364.000000\n",
      "mean   9.938898e+00  4.649388e+00   15324.638504\n",
      "std    1.727058e+02  1.235531e+02    1697.464450\n",
      "min   -8.099500e+04 -5.359436e+04   12346.000000\n",
      "25%    1.000000e+00  1.250000e+00   13975.000000\n",
      "50%    3.000000e+00  2.100000e+00   15255.000000\n",
      "75%    1.000000e+01  4.150000e+00   16797.000000\n",
      "max    8.099500e+04  3.897000e+04   18287.000000\n",
      "\n",
      "==================================================\n",
      "\n"
     ]
    }
   ],
   "source": [
    "# Get summary statistics for numerical columns\n",
    "print(\"Numerical Describe:\")\n",
    "print(df.describe())\n",
    "print(\"\\n\" + \"=\"*50 + \"\\n\")"
   ]
  },
  {
   "cell_type": "code",
   "execution_count": 6,
   "id": "4c51c7856c771ae3",
   "metadata": {
    "ExecuteTime": {
     "end_time": "2025-08-11T05:01:32.772928Z",
     "start_time": "2025-08-11T05:01:32.671961Z"
    }
   },
   "outputs": [
    {
     "name": "stdout",
     "output_type": "stream",
     "text": [
      "Missing Values Count:\n",
      "Invoice             0\n",
      "StockCode           0\n",
      "Description      4382\n",
      "Quantity            0\n",
      "InvoiceDate         0\n",
      "Price               0\n",
      "Customer ID    243007\n",
      "Country             0\n",
      "dtype: int64\n"
     ]
    }
   ],
   "source": [
    "# Count missing values in each column\n",
    "print(\"Missing Values Count:\")\n",
    "print(df.isnull().sum())\n"
   ]
  },
  {
   "cell_type": "markdown",
   "id": "5e461dd8088c4d74",
   "metadata": {},
   "source": [
    "# Handle Duplicates & Missing Data)"
   ]
  },
  {
   "cell_type": "code",
   "execution_count": 7,
   "id": "689cdfa52490e387",
   "metadata": {},
   "outputs": [
    {
     "name": "stdout",
     "output_type": "stream",
     "text": [
      "Shape before dropping duplicates: (1067371, 8)\n",
      "34335\n",
      "Shape after dropping duplicates: (1033036, 8)\n",
      "Shape after dropping duplicates: (797885, 8)\n",
      "\n",
      "Missing values after handling Customer ID:\n",
      "Invoice        0\n",
      "StockCode      0\n",
      "Description    0\n",
      "Quantity       0\n",
      "InvoiceDate    0\n",
      "Price          0\n",
      "Customer ID    0\n",
      "Country        0\n",
      "dtype: int64\n"
     ]
    }
   ],
   "source": [
    "# Print shape before dropping duplicates\n",
    "print(f\"Shape before dropping duplicates: {df.shape}\")\n",
    "\n",
    "print(df.duplicated().sum())\n",
    "\n",
    "# Drop duplicate rows\n",
    "df.drop_duplicates(inplace=True) # re df\n",
    "\n",
    "# Print shape after dropping duplicates\n",
    "print(f\"Shape after dropping duplicates: {df.shape}\")\n",
    "\n",
    "# Drop rows where Customer ID is missing\n",
    "df.dropna(subset=['Customer ID'], inplace=True)\n",
    "\n",
    "# Print shape after dropping missing Customer ID\n",
    "print(f\"Shape after dropping duplicates: {df.shape}\")\n",
    "\n",
    "# Verify that missing Customer IDs are handled\n",
    "print(\"\\nMissing values after handling Customer ID:\")\n",
    "print(df.isnull().sum())"
   ]
  },
  {
   "cell_type": "markdown",
   "id": "f23f4d45153a98cf",
   "metadata": {},
   "source": [
    "# Clean Transactional Data"
   ]
  },
  {
   "cell_type": "code",
   "execution_count": 8,
   "id": "eaa304db02690297",
   "metadata": {
    "ExecuteTime": {
     "end_time": "2025-08-11T05:11:56.033469Z",
     "start_time": "2025-08-11T05:11:55.800107Z"
    }
   },
   "outputs": [
    {
     "name": "stdout",
     "output_type": "stream",
     "text": [
      "Shape after cleaning transactions: (779425, 8)\n"
     ]
    }
   ],
   "source": [
    "# Remove cancelled orders (Invoice starts with 'C')\n",
    "df = df[~df['Invoice'].astype(str).str.startswith('C')]\n",
    "\n",
    "# Ensure quantity is positive\n",
    "df = df[df['Quantity'] > 0]\n",
    "\n",
    "# Remove records where price is 0\n",
    "df = df[df['Price'] > 0]\n",
    "\n",
    "# Check the shape of the dataframe after cleaning\n",
    "print(f\"Shape after cleaning transactions: {df.shape}\")\n"
   ]
  },
  {
   "cell_type": "markdown",
   "id": "dd0f266e744ae834",
   "metadata": {},
   "source": [
    "# Filtering Non-Product Charges"
   ]
  },
  {
   "cell_type": "code",
   "execution_count": 9,
   "id": "e2bd9108ce3e5909",
   "metadata": {
    "ExecuteTime": {
     "end_time": "2025-08-11T06:16:12.016449Z",
     "start_time": "2025-08-11T06:16:11.599637Z"
    }
   },
   "outputs": [
    {
     "name": "stdout",
     "output_type": "stream",
     "text": [
      "Following codes (without any digits) will be removed: ['POST', 'M', 'BANK CHARGES', 'PADS', 'ADJUST', 'D', 'DOT']\n",
      "\n",
      "Shape before filtering: (779425, 8)\n",
      "Shape after filtering: (776840, 8)\n"
     ]
    }
   ],
   "source": [
    "# (Assuming 'df' is your dataframe after the initial cleaning)\n",
    "\n",
    "def is_product_code(code):\n",
    "    \"\"\"\n",
    "    Checks if a stock code is likely a product by seeing if it contains any digit.\n",
    "    Returns True if it contains a digit, False otherwise.\n",
    "    e.g., is_product_code('85123A') -> True\n",
    "           is_product_code('POST')    -> False\n",
    "    \"\"\"\n",
    "    code_str = str(code)\n",
    "    return any(char.isdigit() for char in code_str)\n",
    "    # ====================\n",
    "\n",
    "\n",
    "# --- Identify codes that would be removed using this new logic ---\n",
    "all_unique_codes = df['StockCode'].unique()\n",
    "codes_to_be_removed = [code for code in all_unique_codes if not is_product_code(code)]\n",
    "print(f\"Following codes (without any digits) will be removed: {codes_to_be_removed}\")\n",
    "\n",
    "\n",
    "# --- Filtering Step ---\n",
    "print(f\"\\nShape before filtering: {df.shape}\")\n",
    "\n",
    "# Apply the function to the 'StockCode' column and keep only the rows that return True\n",
    "df = df[df['StockCode'].apply(is_product_code)]\n",
    "\n",
    "print(f\"Shape after filtering: {df.shape}\")\n"
   ]
  },
  {
   "cell_type": "markdown",
   "id": "ed8c355e150b7c93",
   "metadata": {},
   "source": [
    "# Create TotalPrice column\n"
   ]
  },
  {
   "cell_type": "code",
   "execution_count": 10,
   "id": "101c36781c68ec07",
   "metadata": {
    "ExecuteTime": {
     "end_time": "2025-08-11T06:45:47.208557Z",
     "start_time": "2025-08-11T06:45:47.193288Z"
    }
   },
   "outputs": [
    {
     "name": "stdout",
     "output_type": "stream",
     "text": [
      "(776840, 9)\n",
      "  Invoice StockCode                          Description  Quantity  \\\n",
      "0  489434     85048  15CM CHRISTMAS GLASS BALL 20 LIGHTS        12   \n",
      "1  489434    79323P                   PINK CHERRY LIGHTS        12   \n",
      "2  489434    79323W                  WHITE CHERRY LIGHTS        12   \n",
      "3  489434     22041         RECORD FRAME 7\" SINGLE SIZE         48   \n",
      "4  489434     21232       STRAWBERRY CERAMIC TRINKET BOX        24   \n",
      "\n",
      "           InvoiceDate  Price  Customer ID         Country  TotalPrice  \n",
      "0  2009-12-01 07:45:00   6.95      13085.0  United Kingdom        83.4  \n",
      "1  2009-12-01 07:45:00   6.75      13085.0  United Kingdom        81.0  \n",
      "2  2009-12-01 07:45:00   6.75      13085.0  United Kingdom        81.0  \n",
      "3  2009-12-01 07:45:00   2.10      13085.0  United Kingdom       100.8  \n",
      "4  2009-12-01 07:45:00   1.25      13085.0  United Kingdom        30.0  \n"
     ]
    }
   ],
   "source": [
    "# Create TotalPrice column\n",
    "df['TotalPrice'] = df['Quantity'] * df['Price']\n",
    "\n",
    "print(df.shape)\n",
    "print(df.head())"
   ]
  },
  {
   "cell_type": "markdown",
   "id": "f3f79fa8ecf722ec",
   "metadata": {},
   "source": [
    "# Convert InvoiceDate to datetime\n"
   ]
  },
  {
   "cell_type": "code",
   "execution_count": 11,
   "id": "29d5384200140e9f",
   "metadata": {
    "ExecuteTime": {
     "end_time": "2025-08-11T06:54:52.835928Z",
     "start_time": "2025-08-11T06:54:52.739455Z"
    }
   },
   "outputs": [
    {
     "name": "stdout",
     "output_type": "stream",
     "text": [
      "<class 'pandas.core.series.Series'>\n",
      "datetime64[ns]\n",
      "          InvoiceDate  Year  Month  DayOfWeek  HourOfDay\n",
      "0 2009-12-01 07:45:00  2009     12          1          7\n",
      "1 2009-12-01 07:45:00  2009     12          1          7\n",
      "2 2009-12-01 07:45:00  2009     12          1          7\n",
      "3 2009-12-01 07:45:00  2009     12          1          7\n",
      "4 2009-12-01 07:45:00  2009     12          1          7\n"
     ]
    }
   ],
   "source": [
    "# Convert InvoiceDate to datetime\n",
    "df['InvoiceDate'] = pd.to_datetime(df['InvoiceDate'])\n",
    "\n",
    "print(type(df['InvoiceDate']))\n",
    "print(df['InvoiceDate'].dtype)\n",
    "\n",
    "# 2. නව columns 4ක් සාදන්න - Year, Month, DayOfWeek, HourOfDay\n",
    "df['Year'] = df['InvoiceDate'].dt.year\n",
    "df['Month'] = df['InvoiceDate'].dt.month\n",
    "df['DayOfWeek'] = df['InvoiceDate'].dt.dayofweek     # Monday=0, Sunday=6\n",
    "df['HourOfDay'] = df['InvoiceDate'].dt.hour\n",
    "\n",
    "# 3. බලන්න කොහොම තියෙනද (මුල් 5 rows)\n",
    "print(df[['InvoiceDate', 'Year', 'Month', 'DayOfWeek', 'HourOfDay']].head())\n"
   ]
  },
  {
   "cell_type": "markdown",
   "id": "c7f40b62edcd01ab",
   "metadata": {},
   "source": [
    "# Convert Customer ID to integer\n",
    "# Convert Customer ID to integer\n"
   ]
  },
  {
   "cell_type": "code",
   "execution_count": 12,
   "id": "b658a6835efb1938",
   "metadata": {
    "ExecuteTime": {
     "end_time": "2025-08-11T06:56:57.931584Z",
     "start_time": "2025-08-11T06:56:57.917784Z"
    }
   },
   "outputs": [
    {
     "name": "stdout",
     "output_type": "stream",
     "text": [
      "int64\n"
     ]
    }
   ],
   "source": [
    "\n",
    "df['Customer ID'] = df['Customer ID'].astype(int)  # Convert Customer ID to integer\n",
    "\n",
    "print(df['Customer ID'].dtype)\n"
   ]
  },
  {
   "cell_type": "markdown",
   "id": "1bc96862bc77051c",
   "metadata": {},
   "source": [
    "# Convert StockCode to string\n"
   ]
  },
  {
   "cell_type": "code",
   "execution_count": 13,
   "id": "3a35e79cff33cd6e",
   "metadata": {
    "ExecuteTime": {
     "end_time": "2025-08-11T07:00:14.193605Z",
     "start_time": "2025-08-11T07:00:14.155427Z"
    }
   },
   "outputs": [
    {
     "name": "stdout",
     "output_type": "stream",
     "text": [
      "object\n"
     ]
    }
   ],
   "source": [
    "# Convert StockCode to string\n",
    "df['StockCode'] = df['StockCode'].astype(str)  # Convert StockCode to string\n",
    "print(df['StockCode'].dtype)"
   ]
  },
  {
   "cell_type": "markdown",
   "id": "e4ab5030c8372518",
   "metadata": {},
   "source": [
    "# create cleaned dataset - .csv file"
   ]
  },
  {
   "cell_type": "code",
   "execution_count": 14,
   "id": "ab175774a180a55",
   "metadata": {
    "ExecuteTime": {
     "end_time": "2025-08-11T07:03:00.393335Z",
     "start_time": "2025-08-11T07:02:57.994153Z"
    }
   },
   "outputs": [],
   "source": [
    "df.to_csv('../data/cleaned-dataset.csv', index=False)\n",
    "\n",
    "#\n"
   ]
  },
  {
   "cell_type": "markdown",
   "id": "c0317478",
   "metadata": {},
   "source": [
    "# start code with me "
   ]
  },
  {
   "cell_type": "code",
   "execution_count": 30,
   "id": "d4c4d5ee",
   "metadata": {},
   "outputs": [
    {
     "name": "stdout",
     "output_type": "stream",
     "text": [
      "Index(['Invoice', 'StockCode', 'Description', 'Quantity', 'InvoiceDate',\n",
      "       'Price', 'Customer ID', 'Country', 'TotalPrice', 'Year', 'Month',\n",
      "       'DayOfWeek', 'HourOfDay'],\n",
      "      dtype='object')\n"
     ]
    }
   ],
   "source": [
    "import pandas as pd\n",
    "\n",
    "df = pd.read_csv('../data/cleaned-dataset.csv')\n",
    "print(df.columns)\n"
   ]
  },
  {
   "cell_type": "markdown",
   "id": "39aa4ef6",
   "metadata": {},
   "source": [
    "# first install this = py -m pip install matplotlib seaborn\n"
   ]
  },
  {
   "cell_type": "code",
   "execution_count": 31,
   "id": "2c2c917f",
   "metadata": {},
   "outputs": [
    {
     "data": {
      "image/png": "[encoded data removed]",
      "text/plain": [
       "<Figure size 1200x600 with 1 Axes>"
      ]
     },
     "metadata": {},
     "output_type": "display_data"
    }
   ],
   "source": [
    "import pandas as pd\n",
    "import matplotlib.pyplot as plt\n",
    "import seaborn as sns\n",
    "\n",
    "# Load cleaned dataset\n",
    "df = pd.read_csv('../data/cleaned-dataset.csv')\n",
    "\n",
    "# Convert 'InvoiceDate' column to datetime\n",
    "df['InvoiceDate'] = pd.to_datetime(df['InvoiceDate'])\n",
    "\n",
    "# Extract Year-Month for grouping\n",
    "df['YearMonth'] = df['InvoiceDate'].dt.to_period('M')\n",
    "\n",
    "# Calculate revenue per row if 'TotalPrice' doesn't already exist or is accurate\n",
    "# If TotalPrice exists and is correct, use it directly\n",
    "# Otherwise calculate revenue as Price * Quantity\n",
    "if 'TotalPrice' in df.columns and df['TotalPrice'].notnull().all():\n",
    "    df['Revenue'] = df['TotalPrice']\n",
    "else:\n",
    "    df['Revenue'] = df['Price'] * df['Quantity']\n",
    "\n",
    "# Group by YearMonth and sum revenue\n",
    "monthly_revenue = df.groupby('YearMonth')['Revenue'].sum().reset_index()\n",
    "\n",
    "# Convert YearMonth to timestamp for plotting\n",
    "monthly_revenue['YearMonth'] = monthly_revenue['YearMonth'].dt.to_timestamp()\n",
    "\n",
    "# Plot monthly revenue trend\n",
    "plt.figure(figsize=(12,6))\n",
    "sns.lineplot(data=monthly_revenue, x='YearMonth', y='Revenue', marker='o')\n",
    "plt.title('Monthly Total Sales Revenue (2 Years)', fontsize=16)\n",
    "plt.xlabel('Month', fontsize=12)\n",
    "plt.ylabel('Revenue', fontsize=12)\n",
    "plt.grid(True)\n",
    "plt.tight_layout()\n",
    "plt.show()\n"
   ]
  }
 ],
 "metadata": {
  "kernelspec": {
   "display_name": "Python 3",
   "language": "python",
   "name": "python3"
  },
  "language_info": {
   "codemirror_mode": {
    "name": "ipython",
    "version": 3
   },
   "file_extension": ".py",
   "mimetype": "text/x-python",
   "name": "python",
   "nbconvert_exporter": "python",
   "pygments_lexer": "ipython3",
   "version": "3.13.3"
  }
 },
 "nbformat": 4,
 "nbformat_minor": 5
}
