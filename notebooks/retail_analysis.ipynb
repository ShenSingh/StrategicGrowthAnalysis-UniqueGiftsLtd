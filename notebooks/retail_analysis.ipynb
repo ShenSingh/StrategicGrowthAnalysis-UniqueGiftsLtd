{
 "cells": [
  {
   "metadata": {},
   "cell_type": "markdown",
   "source": "# StrategicGrowthAnalysis-UniqueGiftsLtd",
   "id": "58ec28eb98288c58"
  },
  {
   "metadata": {},
   "cell_type": "code",
   "source": [
    "import requests # for downloading the dataset\n",
    "import os # for file operations\n",
    "from tqdm import tqdm  # progress bar library\n",
    "\n",
    "url = \"https://docs.google.com/spreadsheets/d/1RZ0nYqAUgSivbfIiMsbZfEy2yg5KzNBcbGThzDPHx7c/export?format=csv\"\n",
    "file_path = \"../data/dataset.csv\" # Path to save the dataset\n",
    "\n",
    "os.makedirs(\"../data\", exist_ok=True)\n",
    "\n",
    "response = requests.get(url, stream=True)\n",
    "total_size = int(response.headers.get('content-length', 0))\n",
    "block_size = 1024  # 1 KB\n",
    "\n",
    "print(\"Downloading dataset with progress:\")\n",
    "\n",
    "with open(file_path, \"wb\") as file, tqdm(\n",
    "    desc=file_path,\n",
    "    total=total_size,\n",
    "    unit='iB',\n",
    "    unit_scale=True,\n",
    "    unit_divisor=1024,\n",
    ") as bar:\n",
    "    for data in response.iter_content(block_size):\n",
    "        file.write(data)\n",
    "        bar.update(len(data))\n",
    "\n",
    "print(\"Download complete!\")\n",
    "\n"
   ],
   "id": "1a5ef22349c191ab",
   "outputs": [],
   "execution_count": null
  },
  {
   "metadata": {},
   "cell_type": "markdown",
   "source": "create a function to load the dataset",
   "id": "4a55d76c6590f085"
  },
  {
   "metadata": {},
   "cell_type": "code",
   "source": [
    "import pandas as pd\n",
    "\n",
    "if not os.path.exists(file_path): # Check if the file exists\n",
    "    raise FileNotFoundError(f\"Dataset file not found at {file_path}. Please check the download process.\")\n",
    "\n",
    "df = pd.read_csv(file_path) # Load the dataset\n",
    "print(f\"Dataset loaded successfully with {df.shape[0]} rows and {df.shape[1]} columns.\")\n"
   ],
   "id": "1f8cceb0c95953e3",
   "outputs": [],
   "execution_count": null
  },
  {
   "metadata": {},
   "cell_type": "markdown",
   "source": "your task is to analyze the dataset and provide insights on how UniqueGiftsLtd can strategically grow its business.",
   "id": "a80f562ebc60cfa5"
  },
  {
   "metadata": {},
   "cell_type": "code",
   "source": [
    "# Display the first few rows of the dataset\n",
    "df.head()"
   ],
   "id": "a71b47e72b42024f",
   "outputs": [],
   "execution_count": null
  },
  {
   "metadata": {},
   "cell_type": "markdown",
   "source": "Have fun creating your demo method using the dataset (df)! 🚀📊😊",
   "id": "86bef21c2801927b"
  },
  {
   "metadata": {},
   "cell_type": "code",
   "source": [
    "# Have fun creating your demo method using the dataset (df)! 🚀📊😊\n",
    "\n",
    "# //\n",
    "# .\n",
    "# .\n",
    "# //\n"
   ],
   "id": "ee2ff62b888eab86",
   "outputs": [],
   "execution_count": null
  }
 ],
 "metadata": {
  "kernelspec": {
   "display_name": "Python 3",
   "language": "python",
   "name": "python3"
  },
  "language_info": {
   "codemirror_mode": {
    "name": "ipython",
    "version": 2
   },
   "file_extension": ".py",
   "mimetype": "text/x-python",
   "name": "python",
   "nbconvert_exporter": "python",
   "pygments_lexer": "ipython2",
   "version": "2.7.6"
  }
 },
 "nbformat": 4,
 "nbformat_minor": 5
}
